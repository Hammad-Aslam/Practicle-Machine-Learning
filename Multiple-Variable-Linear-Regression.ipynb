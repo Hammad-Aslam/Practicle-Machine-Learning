{
 "cells": [
  {
   "cell_type": "code",
   "execution_count": 1,
   "metadata": {},
   "outputs": [],
   "source": [
    "import copy, math\n",
    "import numpy as np\n",
    "import matplotlib.pyplot as plt\n",
    "np.set_printoptions(precision=2)"
   ]
  },
  {
   "cell_type": "code",
   "execution_count": 2,
   "metadata": {},
   "outputs": [],
   "source": [
    "x_train = np.array([[2345, 5,78, 90], [2367, 980, 45, 9], [4500, 8900, 89, 76]])\n",
    "y_train = np.array([560, 789, 900])"
   ]
  },
  {
   "cell_type": "code",
   "execution_count": 10,
   "metadata": {},
   "outputs": [
    {
     "name": "stdout",
     "output_type": "stream",
     "text": [
      "shape of x_train is:  {(3, 4)} Type is:  {<class 'numpy.ndarray'>}\n",
      "[[2345    5   78   90]\n",
      " [2367  980   45    9]\n",
      " [4500 8900   89   76]]\n",
      "shape of y_train is:  {(3,)} Type is:  {<class 'numpy.ndarray'>}\n",
      "[560 789 900]\n"
     ]
    }
   ],
   "source": [
    "print(f'shape of x_train is: ', {x_train.shape}, 'Type is: ', {type(x_train)})\n",
    "print(x_train)\n",
    "print(f\"shape of y_train is: \", {y_train.shape}, \"Type is: \", {type(y_train)})\n",
    "print(y_train)"
   ]
  },
  {
   "cell_type": "code",
   "execution_count": 12,
   "metadata": {},
   "outputs": [],
   "source": [
    "b_init = 450.023421352315\n",
    "w_init = np.array([0.39133535, 18.75376741, -53.36032453, -26.42131618])"
   ]
  },
  {
   "cell_type": "code",
   "execution_count": 13,
   "metadata": {},
   "outputs": [],
   "source": [
    "def predict_single_loop(x, w, b):\n",
    "    n = x.shape[0]\n",
    "    p = 0\n",
    "    for i in range(n):\n",
    "        p_i = x[i] * w[i]\n",
    "        p = p + p_i\n",
    "    p = p + b\n",
    "    return p"
   ]
  },
  {
   "cell_type": "code",
   "execution_count": 14,
   "metadata": {},
   "outputs": [
    {
     "name": "stdout",
     "output_type": "stream",
     "text": [
      "x_vec shape (4,), x_vec value: [2345    5   78   90]\n",
      "f_wb shape (), prediction: -18705536.81199665\n"
     ]
    }
   ],
   "source": [
    "# get a row from our training data\n",
    "x_vec = x_train[0, :]\n",
    "print(f\"x_vec shape {x_vec.shape}, x_vec value: {x_vec}\")\n",
    "\n",
    "# make a prediction\n",
    "f_wb = predict_single_loop(x_vec, w_init, b_init)\n",
    "print(f\"f_wb shape {f_wb.shape}, prediction: {f_wb}\")"
   ]
  },
  {
   "cell_type": "code",
   "execution_count": 15,
   "metadata": {},
   "outputs": [],
   "source": [
    "def predict(x, w, b):\n",
    "    p = np.dot(x, w) + b\n",
    "    return p"
   ]
  },
  {
   "cell_type": "code",
   "execution_count": 18,
   "metadata": {},
   "outputs": [
    {
     "name": "stdout",
     "output_type": "stream",
     "text": [
      "x_vec shape (4,), x_vec value: [2345    5   78   90]\n",
      "f_wb shape (), prediction: -18705536.81199665\n"
     ]
    }
   ],
   "source": [
    "# get a row from our training data\n",
    "x_vec = x_train[0, :]\n",
    "print(f\"x_vec shape {x_vec.shape}, x_vec value: {x_vec}\")\n",
    "\n",
    "# make a prediction\n",
    "f_wb = predict(x_vec, w_init, b_init)\n",
    "print(f\"f_wb shape {f_wb.shape}, prediction: {f_wb}\")"
   ]
  },
  {
   "cell_type": "code",
   "execution_count": 19,
   "metadata": {},
   "outputs": [],
   "source": [
    "def compute_cost(X, y, w, b):\n",
    "\n",
    "    m = X.shape[0]\n",
    "    cost = 0.0\n",
    "    for i in range(m):\n",
    "        f_wb_i = np.dot(X[i], w) + b  # (n,)(n,) = scalar (see np.dot)\n",
    "        cost = cost + (f_wb_i - y[i]) ** 2  # scalar\n",
    "    cost = cost / (2 * m)  # scalar\n",
    "    return cost"
   ]
  },
  {
   "cell_type": "code",
   "execution_count": 21,
   "metadata": {},
   "outputs": [
    {
     "name": "stdout",
     "output_type": "stream",
     "text": [
      "Cost at optimal w : 111946576120849.62\n"
     ]
    }
   ],
   "source": [
    "# Compute and display cost using our pre-chosen optimal parameters.\n",
    "cost = compute_cost(x_train, y_train, w_init, b_init)\n",
    "print(f\"Cost at optimal w : {cost}\")"
   ]
  },
  {
   "cell_type": "code",
   "execution_count": 22,
   "metadata": {},
   "outputs": [],
   "source": [
    "def compute_gradient(X, y, w, b):\n",
    "    m, n = X.shape  # (number of examples, number of features)\n",
    "    dj_dw = np.zeros((n,))\n",
    "    dj_db = 0.0\n",
    "\n",
    "    for i in range(m):\n",
    "        err = (np.dot(X[i], w) + b) - y[i]\n",
    "        for j in range(n):\n",
    "            dj_dw[j] = dj_dw[j] + err * X[i, j]\n",
    "        dj_db = dj_db + err\n",
    "    dj_dw = dj_dw / m\n",
    "    dj_db = dj_db / m\n",
    "\n",
    "    return dj_db, dj_dw"
   ]
  },
  {
   "cell_type": "code",
   "execution_count": 23,
   "metadata": {},
   "outputs": [
    {
     "name": "stdout",
     "output_type": "stream",
     "text": [
      "dj_db at initial w,b: -11410480.96057265\n",
      "dj_dw at initial w,b: \n",
      " [-3.95e+10 -5.21e+10 -9.80e+08 -1.01e+09]\n"
     ]
    }
   ],
   "source": [
    "# Compute and display gradient\n",
    "tmp_dj_db, tmp_dj_dw = compute_gradient(x_train, y_train, w_init, b_init)\n",
    "print(f\"dj_db at initial w,b: {tmp_dj_db}\")\n",
    "print(f\"dj_dw at initial w,b: \\n {tmp_dj_dw}\")"
   ]
  },
  {
   "cell_type": "code",
   "execution_count": 24,
   "metadata": {},
   "outputs": [],
   "source": [
    "def gradient_descent(\n",
    "    X, y, w_in, b_in, cost_function, gradient_function, alpha, num_iters\n",
    "):\n",
    "\n",
    "    # An array to store cost J and w's at each iteration primarily for graphing later\n",
    "    J_history = []\n",
    "    w = copy.deepcopy(w_in)  # avoid modifying global w within function\n",
    "    b = b_in\n",
    "\n",
    "    for i in range(num_iters):\n",
    "\n",
    "        # Calculate the gradient and update the parameters\n",
    "        dj_db, dj_dw = gradient_function(X, y, w, b)  ##None\n",
    "\n",
    "        # Update Parameters using w, b, alpha and gradient\n",
    "        w = w - alpha * dj_dw  ##None\n",
    "        b = b - alpha * dj_db  ##None\n",
    "\n",
    "        # Save cost J at each iteration\n",
    "        if i < 100000:  # prevent resource exhaustion\n",
    "            J_history.append(cost_function(X, y, w, b))\n",
    "\n",
    "        # Print cost every at intervals 10 times or as many iterations if < 10\n",
    "        if i % math.ceil(num_iters / 10) == 0:\n",
    "            print(f\"Iteration {i:4d}: Cost {J_history[-1]:8.2f}   \")\n",
    "\n",
    "    return w, b, J_history  # return final w,b and J history for graphing"
   ]
  },
  {
   "cell_type": "code",
   "execution_count": 27,
   "metadata": {},
   "outputs": [
    {
     "name": "stdout",
     "output_type": "stream",
     "text": [
      "Iteration    0: Cost 54296064.12   \n",
      "Iteration  100: Cost 90545809926674674862239361805871311054392069603777570120319256170366337962092542505904327806797827652193091241979179496002502225244808011545951480094879053274875210611055829530358267712399711899472073273600778661556407484084872512657571166340218093568.00   \n",
      "Iteration  200: Cost      inf   \n",
      "Iteration  300: Cost      nan   \n",
      "Iteration  400: Cost      nan   \n",
      "Iteration  500: Cost      nan   \n",
      "Iteration  600: Cost      nan   \n",
      "Iteration  700: Cost      nan   \n",
      "Iteration  800: Cost      nan   \n",
      "Iteration  900: Cost      nan   \n",
      "b,w found by gradient descent: nan,[nan nan nan nan] \n",
      "prediction: nan, target value: 560\n",
      "prediction: nan, target value: 789\n",
      "prediction: nan, target value: 900\n"
     ]
    },
    {
     "name": "stderr",
     "output_type": "stream",
     "text": [
      "C:\\Users\\GM\\AppData\\Local\\Temp\\ipykernel_13660\\139152904.py:7: RuntimeWarning: overflow encountered in scalar power\n",
      "  cost = cost + (f_wb_i - y[i]) ** 2  # scalar\n",
      "C:\\Users\\GM\\AppData\\Local\\Temp\\ipykernel_13660\\707591828.py:9: RuntimeWarning: overflow encountered in scalar multiply\n",
      "  dj_dw[j] = dj_dw[j] + err * X[i, j]\n",
      "C:\\Users\\GM\\AppData\\Local\\Temp\\ipykernel_13660\\1679644062.py:16: RuntimeWarning: invalid value encountered in subtract\n",
      "  w = w - alpha * dj_dw  ##None\n"
     ]
    }
   ],
   "source": [
    "# initialize parameters\n",
    "initial_w = np.zeros_like(w_init)\n",
    "initial_b = 0.0\n",
    "# some gradient descent settings\n",
    "iterations = 1000\n",
    "alpha = 5.0e-7\n",
    "# run gradient descent\n",
    "w_final, b_final, J_hist = gradient_descent(\n",
    "    x_train,\n",
    "    y_train,\n",
    "    initial_w,\n",
    "    initial_b,\n",
    "    compute_cost,\n",
    "    compute_gradient,\n",
    "    alpha,\n",
    "    iterations,\n",
    ")\n",
    "print(f\"b,w found by gradient descent: {b_final:0.2f},{w_final} \")\n",
    "m, _ = x_train.shape\n",
    "for i in range(m):\n",
    "    print(\n",
    "        f\"prediction: {np.dot(x_train[i], w_final) + b_final:0.2f}, target value: {y_train[i]}\"\n",
    "    )"
   ]
  },
  {
   "cell_type": "code",
   "execution_count": null,
   "metadata": {},
   "outputs": [],
   "source": []
  }
 ],
 "metadata": {
  "kernelspec": {
   "display_name": "Python 3",
   "language": "python",
   "name": "python3"
  },
  "language_info": {
   "codemirror_mode": {
    "name": "ipython",
    "version": 3
   },
   "file_extension": ".py",
   "mimetype": "text/x-python",
   "name": "python",
   "nbconvert_exporter": "python",
   "pygments_lexer": "ipython3",
   "version": "3.12.0"
  }
 },
 "nbformat": 4,
 "nbformat_minor": 2
}
